{
 "cells": [
  {
   "cell_type": "markdown",
   "id": "5ff21f7f",
   "metadata": {},
   "source": [
    "**1. What are the assumptions of linear regression?**  \n",
    "Linear regression assumes:  \n",
    "- A linear relationship between input and output variables.\n",
    "- Errors (residuals) are normally distributed.\n",
    "- Constant variance of errors (homoscedasticity).\n",
    "- No strong correlation between independent variables (no multicollinearity). \n"
   ]
  },
  {
   "cell_type": "markdown",
   "id": "4a9f067d",
   "metadata": {},
   "source": [
    "**2. When should you use logistic regression instead of linear regression?**\n",
    "- Use logistic regression when your output (dependent variable) is categorical, especially for binary classification (like yes/no or 0/1).\n",
    "Linear regression is for predicting continuous values, while logistic regression is for predicting probabilities or classes."
   ]
  },
  {
   "cell_type": "markdown",
   "id": "7c2d4b9c",
   "metadata": {},
   "source": [
    "**3. What is the interpretation of coefficients in logistic regression?**\n",
    "- In logistic regression, each coefficient shows how a one-unit change in the predictor affects the log-odds of the outcome.\n",
    "A positive coefficient increases the probability of the event, while a negative one decreases it."
   ]
  },
  {
   "cell_type": "markdown",
   "id": "e95189f9",
   "metadata": {},
   "source": [
    "**4. What is the difference between sigmoid and softmax functions?**\n",
    "- Sigmoid is used for binary classification and gives a probability between 0 and 1.\n",
    "- Softmax is used for multiclass classification and gives a probability distribution across multiple classes (they add up to 1)."
   ]
  },
  {
   "cell_type": "markdown",
   "id": "4a931d7e",
   "metadata": {},
   "source": [
    "**5. Why is R-squared not suitable for evaluating logistic regression models?**\n",
    "- R-squared measures the fit for linear regression with continuous outcomes. Logistic regression deals with probabilities and classification, so metrics like accuracy, precision, recall, or AUC are more appropriate for evaluating its performance."
   ]
  }
 ],
 "metadata": {
  "language_info": {
   "name": "python"
  }
 },
 "nbformat": 4,
 "nbformat_minor": 5
}
