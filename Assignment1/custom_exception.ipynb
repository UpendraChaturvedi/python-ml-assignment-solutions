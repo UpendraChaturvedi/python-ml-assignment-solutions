{
 "cells": [
  {
   "cell_type": "markdown",
   "id": "9cf8932b",
   "metadata": {},
   "source": [
    "**Make a custom exception.**\n",
    "**Make a 2-d array and read and write it in a csv format**"
   ]
  },
  {
   "cell_type": "code",
   "execution_count": 1,
   "id": "ab383350",
   "metadata": {},
   "outputs": [
    {
     "name": "stdout",
     "output_type": "stream",
     "text": [
      "Custom Exception Caught: Division by zero is not allowed.\n"
     ]
    }
   ],
   "source": [
    "class DivideError(Exception):\n",
    "    def __init__(self, msg):\n",
    "        super().__init__(msg)\n",
    "\n",
    "def safe_div(x, y):\n",
    "    if y == 0:\n",
    "        raise DivideError(\"Division by zero is not allowed.\")\n",
    "    return x / y\n",
    "\n",
    "try:\n",
    "    ans = safe_div(10, 0)\n",
    "    print(\"Result:\", ans)\n",
    "except DivideError as err:\n",
    "    print(\"Custom Exception Caught:\", err)"
   ]
  },
  {
   "cell_type": "code",
   "execution_count": 2,
   "id": "1f0becdd",
   "metadata": {},
   "outputs": [
    {
     "name": "stdout",
     "output_type": "stream",
     "text": [
      "Matrix written to 'matrix_data.csv'\n",
      "Matrix read from 'matrix_data.csv':\n",
      "[[10 20 30]\n",
      " [40 50 60]\n",
      " [70 80 90]]\n"
     ]
    }
   ],
   "source": [
    "# Task 2\n",
    "import numpy as np\n",
    "import csv\n",
    "matrix = np.array([[10, 20, 30],\n",
    "                   [40, 50, 60],\n",
    "                   [70, 80, 90]])\n",
    "\n",
    "with open('matrix_data.csv', 'w', newline='') as fout:\n",
    "    csv_writer = csv.writer(fout)\n",
    "    csv_writer.writerows(matrix)\n",
    "print(\"Matrix written to 'matrix_data.csv'\")\n",
    "\n",
    "loaded = []\n",
    "with open('matrix_data.csv', 'r') as fin:\n",
    "    csv_reader = csv.reader(fin)\n",
    "    for line in csv_reader:\n",
    "        loaded.append([int(val) for val in line])\n",
    "\n",
    "loaded_matrix = np.array(loaded)\n",
    "print(\"Matrix read from 'matrix_data.csv':\")\n",
    "print(loaded_matrix)"
   ]
  }
 ],
 "metadata": {
  "kernelspec": {
   "display_name": "Python 3",
   "language": "python",
   "name": "python3"
  },
  "language_info": {
   "codemirror_mode": {
    "name": "ipython",
    "version": 3
   },
   "file_extension": ".py",
   "mimetype": "text/x-python",
   "name": "python",
   "nbconvert_exporter": "python",
   "pygments_lexer": "ipython3",
   "version": "3.13.5"
  }
 },
 "nbformat": 4,
 "nbformat_minor": 5
}
