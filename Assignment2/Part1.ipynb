{
 "cells": [
  {
   "cell_type": "markdown",
   "id": "e57e942a",
   "metadata": {},
   "source": [
    "Task1:-"
   ]
  },
  {
   "cell_type": "code",
   "execution_count": 13,
   "id": "3dab5562",
   "metadata": {},
   "outputs": [
    {
     "name": "stdout",
     "output_type": "stream",
     "text": [
      "1D Array:\n",
      " [ 1  2  3  4  5  6  7  8  9 10]\n",
      "Shape: (10,)\n",
      "Size: 10\n",
      "Data type: int64\n",
      "\n",
      "2D Array:\n",
      " [[1 2 3]\n",
      " [4 5 6]\n",
      " [7 8 9]]\n",
      "Shape: (3, 3)\n",
      "Size: 9\n",
      "Data type: int64\n",
      "\n",
      "3D Array:\n",
      " [[[0.68754399 0.09010342 0.20186653]\n",
      "  [0.08849085 0.64899261 0.03194497]\n",
      "  [0.31360209 0.22481488 0.31535445]\n",
      "  [0.07315587 0.35842889 0.41887012]\n",
      "  [0.89977696 0.79744922 0.62619691]]\n",
      "\n",
      " [[0.57337524 0.49919387 0.84893233]\n",
      "  [0.13746073 0.92712336 0.74983901]\n",
      "  [0.53127662 0.54792268 0.02815986]\n",
      "  [0.92840913 0.80154543 0.07220137]\n",
      "  [0.93341012 0.50347894 0.85867391]]\n",
      "\n",
      " [[0.33061877 0.2782752  0.86255176]\n",
      "  [0.05271953 0.06112912 0.84332504]\n",
      "  [0.13625741 0.34951044 0.77629193]\n",
      "  [0.51834235 0.55725132 0.64390371]\n",
      "  [0.73282426 0.49458569 0.19133431]]]\n",
      "Shape: (3, 5, 3)\n",
      "Size: 45\n",
      "Data type: float64\n"
     ]
    }
   ],
   "source": [
    "import numpy as np\n",
    "\n",
    "arr1 = np.arange(1, 11)\n",
    "arr2 = np.arange(1, 10).reshape(3, 3)\n",
    "arr3 = np.random.rand(3, 5, 3)\n",
    "\n",
    "print(\"1D Array:\\n\", arr1)\n",
    "print(\"Shape:\", arr1.shape)\n",
    "print(\"Size:\", arr1.size)\n",
    "print(\"Data type:\", arr1.dtype)\n",
    "\n",
    "print(\"\\n2D Array:\\n\", arr2)\n",
    "print(\"Shape:\", arr2.shape)\n",
    "print(\"Size:\", arr2.size)\n",
    "print(\"Data type:\", arr2.dtype)\n",
    "\n",
    "print(\"\\n3D Array:\\n\", arr3)\n",
    "print(\"Shape:\", arr3.shape)\n",
    "print(\"Size:\", arr3.size)\n",
    "print(\"Data type:\", arr3.dtype)\n"
   ]
  },
  {
   "cell_type": "markdown",
   "id": "9eb16795",
   "metadata": {},
   "source": [
    "Task 2:-"
   ]
  },
  {
   "cell_type": "code",
   "execution_count": 20,
   "id": "9556e388",
   "metadata": {},
   "outputs": [
    {
     "name": "stdout",
     "output_type": "stream",
     "text": [
      "Original array: [10 20 30 40 50 60 70 80 90]\n",
      "First three elements: [10 20 30]\n",
      "Alternate elements: [10 30 50 70 90]\n",
      "Reversed array: [90 80 70 60 50 40 30 20 10]\n"
     ]
    }
   ],
   "source": [
    "data = [10, 20, 30, 40, 50, 60, 70, 80, 90]\n",
    "arr = np.array(data)\n",
    "\n",
    "first3 = arr[:3]\n",
    "alts = arr[::2]\n",
    "rev = arr[::-1]\n",
    "\n",
    "print(\"Original array:\", arr)\n",
    "print(\"First three elements:\", first3)\n",
    "print(\"Alternate elements:\", alts)\n",
    "print(\"Reversed array:\", rev)"
   ]
  },
  {
   "cell_type": "markdown",
   "id": "cd56b30b",
   "metadata": {},
   "source": [
    "Task 3:-"
   ]
  },
  {
   "cell_type": "code",
   "execution_count": 26,
   "id": "4491b43c",
   "metadata": {},
   "outputs": [
    {
     "name": "stdout",
     "output_type": "stream",
     "text": [
      "a: [14 12  2 16  2]\n",
      "b: [13  9  9 18  2]\n",
      "\n",
      "Element-wise addition: [27 21 11 34  4]\n",
      "Element-wise subtraction: [ 1  3 -7 -2  0]\n",
      "Element-wise multiplication: [182 108  18 288   4]\n",
      "Element-wise division: [1.07692308 1.33333333 0.22222222 0.88888889 1.        ]\n",
      "\n",
      "Dot product: 600\n",
      "\n",
      "Mean of a: 9.2\n",
      "Median of a: 12.0\n",
      "Standard deviation of a: 6.013318551349164\n",
      "Variance of a: 36.160000000000004\n",
      "\n",
      "Max of b: 18 at index 3\n",
      "Min of b: 2 at index 4\n"
     ]
    }
   ],
   "source": [
    "\n",
    "a = np.random.randint(1, 21, 5)\n",
    "b = np.random.randint(1, 21, 5)\n",
    "\n",
    "print(\"a:\", a)\n",
    "print(\"b:\", b)\n",
    "\n",
    "print(\"\\nElement-wise addition:\", a + b)\n",
    "print(\"Element-wise subtraction:\", a - b)\n",
    "print(\"Element-wise multiplication:\", a * b)\n",
    "print(\"Element-wise division:\", a / b)\n",
    "\n",
    "dp = np.dot(a, b)\n",
    "print(\"\\nDot product:\", dp)\n",
    "\n",
    "print(\"\\nMean of a:\", a.mean())\n",
    "print(\"Median of a:\", np.median(a))\n",
    "print(\"Standard deviation of a:\", a.std())\n",
    "print(\"Variance of a:\", a.var())\n",
    "\n",
    "print(\"\\nMax of b:\", b.max(), \"at index\", b.argmax())\n",
    "print(\"Min of b:\", b.min(), \"at index\", b.argmin())\n"
   ]
  },
  {
   "cell_type": "markdown",
   "id": "7c400fa5",
   "metadata": {},
   "source": [
    "Task 4:-"
   ]
  },
  {
   "cell_type": "code",
   "execution_count": 31,
   "id": "16adf7b7",
   "metadata": {},
   "outputs": [
    {
     "name": "stdout",
     "output_type": "stream",
     "text": [
      "Original 1D array:\n",
      " [ 1  2  3  4  5  6  7  8  9 10 11 12]\n",
      "\n",
      "Reshaped to 2D (4x3):\n",
      " [[ 1  2  3]\n",
      " [ 4  5  6]\n",
      " [ 7  8  9]\n",
      " [10 11 12]]\n",
      "\n",
      "Reshaped to 3D (2x2x3):\n",
      " [[[ 1  2  3]\n",
      "  [ 4  5  6]]\n",
      "\n",
      " [[ 7  8  9]\n",
      "  [10 11 12]]]\n",
      "\n",
      "Transpose of 2D array:\n",
      " [[ 1  4  7 10]\n",
      " [ 2  5  8 11]\n",
      " [ 3  6  9 12]]\n",
      "Shape of transposed 2D array: (3, 4)\n"
     ]
    }
   ],
   "source": [
    "\n",
    "arr = np.arange(1, 13)\n",
    "arr2d = arr.reshape(4, 3)\n",
    "arr3d = arr.reshape(2, 2, 3)\n",
    "arr2dt = arr2d.T\n",
    "\n",
    "print(\"Original 1D array:\\n\", arr)\n",
    "print(\"\\nReshaped to 2D (4x3):\\n\", arr2d)\n",
    "print(\"\\nReshaped to 3D (2x2x3):\\n\", arr3d)\n",
    "print(\"\\nTranspose of 2D array:\\n\", arr2dt)\n",
    "print(\"Shape of transposed 2D array:\", arr2dt.shape)\n"
   ]
  },
  {
   "cell_type": "markdown",
   "id": "19a008d5",
   "metadata": {},
   "source": [
    "Task 5:-"
   ]
  },
  {
   "cell_type": "code",
   "execution_count": 32,
   "id": "13174e00",
   "metadata": {},
   "outputs": [
    {
     "name": "stdout",
     "output_type": "stream",
     "text": [
      "Original array:\n",
      " [50 17 24 34 24 36 32 20 44 39 29 22 42 48 30]\n",
      "\n",
      "Elements greater than 25:\n",
      " [50 34 36 32 44 39 29 42 48 30]\n",
      "\n",
      "After replacing elements < 30 with 0:\n",
      " [50  0  0 34  0 36 32  0 44 39  0  0 42 48 30]\n",
      "\n",
      "Number of elements divisible by 5: 8\n"
     ]
    }
   ],
   "source": [
    "\n",
    "arr = np.random.randint(10, 51, 15)\n",
    "print(\"Original array:\\n\", arr)\n",
    "\n",
    "gt25 = arr[arr > 25]\n",
    "print(\"\\nElements greater than 25:\\n\", gt25)\n",
    "\n",
    "arr[arr < 30] = 0\n",
    "print(\"\\nAfter replacing elements < 30 with 0:\\n\", arr)\n",
    "\n",
    "count5 = np.sum(arr % 5 == 0)\n",
    "print(\"\\nNumber of elements divisible by 5:\", count5)\n"
   ]
  },
  {
   "cell_type": "markdown",
   "id": "594c2630",
   "metadata": {},
   "source": [
    "Task 6:-"
   ]
  },
  {
   "cell_type": "code",
   "execution_count": 33,
   "id": "e2817b1d",
   "metadata": {},
   "outputs": [
    {
     "name": "stdout",
     "output_type": "stream",
     "text": [
      "Equally spaced array:\n",
      " [0.         0.11111111 0.22222222 0.33333333 0.44444444 0.55555556\n",
      " 0.66666667 0.77777778 0.88888889 1.        ]\n",
      "\n",
      "4x4 Identity matrix:\n",
      " [[1. 0. 0. 0.]\n",
      " [0. 1. 0. 0.]\n",
      " [0. 0. 1. 0.]\n",
      " [0. 0. 0. 1.]]\n",
      "\n",
      "Random array:\n",
      " [61 78 67 86 21 30 17 99 15 44 45  3 82 34 85 90 27 64 91 61]\n",
      "Sorted array:\n",
      " [ 3 15 17 21 27 30 34 44 45 61 61 64 67 78 82 85 86 90 91 99]\n",
      "5 largest elements:\n",
      " [85 86 90 91 99]\n"
     ]
    }
   ],
   "source": [
    "\n",
    "arrspace = np.linspace(0, 1, 10)\n",
    "print(\"Equally spaced array:\\n\", arrspace)\n",
    "\n",
    "eye4 = np.eye(4)\n",
    "print(\"\\n4x4 Identity matrix:\\n\", eye4)\n",
    "\n",
    "arrrand = np.random.randint(1, 101, 20)\n",
    "arrsorted = np.sort(arrrand)\n",
    "top5 = arrsorted[-5:]\n",
    "\n",
    "print(\"\\nRandom array:\\n\", arrrand)\n",
    "print(\"Sorted array:\\n\", arrsorted)\n",
    "print(\"5 largest elements:\\n\", top5)\n"
   ]
  },
  {
   "cell_type": "markdown",
   "id": "173c0f82",
   "metadata": {},
   "source": [
    "Task 7:-"
   ]
  },
  {
   "cell_type": "code",
   "execution_count": 35,
   "id": "f4e63602",
   "metadata": {},
   "outputs": [
    {
     "name": "stdout",
     "output_type": "stream",
     "text": [
      "Determinant of result matrix: 7.251021632305108e+49\n",
      "Inverse calculated successfully.\n",
      "Time taken (seconds): 0.12825632095336914\n"
     ]
    }
   ],
   "source": [
    "import time\n",
    "\n",
    "a = np.random.rand(100, 100)\n",
    "b = np.random.rand(100, 100)\n",
    "\n",
    "t1 = time.time()\n",
    "c = np.dot(a, b)\n",
    "det = np.linalg.det(c)\n",
    "\n",
    "inv = None\n",
    "if det != 0:\n",
    "    inv = np.linalg.inv(c)\n",
    "\n",
    "t2 = time.time()\n",
    "elapsed = t2 - t1\n",
    "\n",
    "print(\"Determinant of result matrix:\", det)\n",
    "if inv is not None:\n",
    "    print(\"Inverse calculated successfully.\")\n",
    "else:\n",
    "    print(\"Inverse not possible (determinant is zero).\")\n",
    "\n",
    "print(\"Time taken (seconds):\", elapsed)"
   ]
  }
 ],
 "metadata": {
  "kernelspec": {
   "display_name": "Python 3",
   "language": "python",
   "name": "python3"
  },
  "language_info": {
   "codemirror_mode": {
    "name": "ipython",
    "version": 3
   },
   "file_extension": ".py",
   "mimetype": "text/x-python",
   "name": "python",
   "nbconvert_exporter": "python",
   "pygments_lexer": "ipython3",
   "version": "3.13.5"
  }
 },
 "nbformat": 4,
 "nbformat_minor": 5
}
