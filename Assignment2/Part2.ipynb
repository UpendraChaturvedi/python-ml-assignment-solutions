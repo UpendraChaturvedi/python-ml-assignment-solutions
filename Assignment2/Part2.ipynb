{
 "cells": [
  {
   "cell_type": "markdown",
   "id": "7c2f2a9f",
   "metadata": {},
   "source": [
    "Task 1:-"
   ]
  },
  {
   "cell_type": "code",
   "execution_count": 2,
   "id": "fe1cd578",
   "metadata": {},
   "outputs": [
    {
     "name": "stdout",
     "output_type": "stream",
     "text": [
      "A    25\n",
      "B    30\n",
      "C    35\n",
      "dtype: int64\n",
      "Mean: 35.0\n",
      "Median: 35.0\n",
      "Std Dev: 7.905694150420948\n"
     ]
    }
   ],
   "source": [
    "import pandas as pd\n",
    "\n",
    "data = [25, 30, 35, 40, 45]\n",
    "s = pd.Series(data, index=['A', 'B', 'C', 'D', 'E'])\n",
    "\n",
    "print(s[:3])\n",
    "print(\"Mean:\", s.mean())\n",
    "print(\"Median:\", s.median())\n",
    "print(\"Std Dev:\", s.std())\n"
   ]
  },
  {
   "cell_type": "markdown",
   "id": "30bc20da",
   "metadata": {},
   "source": [
    "Task 2:-"
   ]
  },
  {
   "cell_type": "code",
   "execution_count": 3,
   "id": "f26f323d",
   "metadata": {},
   "outputs": [
    {
     "name": "stdout",
     "output_type": "stream",
     "text": [
      "    Name  Age  Gender  Marks\n",
      "0  Alice   20  Female     85\n",
      "1    Bob   22    Male     78\n",
      "\n",
      "Columns: ['Name', 'Age', 'Gender', 'Marks']\n",
      "\n",
      "Data types:\n",
      " Name      object\n",
      "Age        int64\n",
      "Gender    object\n",
      "Marks      int64\n",
      "dtype: object\n",
      "\n",
      "Summary stats:\n",
      "              Age      Marks\n",
      "count   5.000000   5.000000\n",
      "mean   20.400000  83.400000\n",
      "std     1.140175   7.334848\n",
      "min    19.000000  74.000000\n",
      "25%    20.000000  78.000000\n",
      "50%    20.000000  85.000000\n",
      "75%    21.000000  88.000000\n",
      "max    22.000000  92.000000\n",
      "\n",
      "DataFrame with Passed column:\n",
      "     Name  Age  Gender  Marks  Passed\n",
      "0  Alice   20  Female     85    True\n",
      "1    Bob   22    Male     78   False\n",
      "2  Carol   19  Female     92    True\n",
      "3  David   21    Male     74   False\n",
      "4    Eve   20  Female     88    True\n"
     ]
    }
   ],
   "source": [
    "data = {\n",
    "    'Name': ['Alice', 'Bob', 'Carol', 'David', 'Eve'],\n",
    "    'Age': [20, 22, 19, 21, 20],\n",
    "    'Gender': ['Female', 'Male', 'Female', 'Male', 'Female'],\n",
    "    'Marks': [85, 78, 92, 74, 88]\n",
    "}\n",
    "\n",
    "df = pd.DataFrame(data)\n",
    "\n",
    "print(df.head(2))\n",
    "print(\"\\nColumns:\", df.columns.tolist())\n",
    "print(\"\\nData types:\\n\", df.dtypes)\n",
    "print(\"\\nSummary stats:\\n\", df.describe())\n",
    "\n",
    "df['Passed'] = df['Marks'] >= 80\n",
    "print(\"\\nDataFrame with Passed column:\\n\", df)"
   ]
  },
  {
   "cell_type": "markdown",
   "id": "c2080e7b",
   "metadata": {},
   "source": [
    "Task 3:-"
   ]
  },
  {
   "cell_type": "code",
   "execution_count": 4,
   "id": "46855bf8",
   "metadata": {},
   "outputs": [
    {
     "name": "stdout",
     "output_type": "stream",
     "text": [
      "    Name  Marks\n",
      "0  Alice     85\n",
      "1    Bob     78\n",
      "2  Carol     92\n",
      "3  David     74\n",
      "4    Eve     88\n",
      "\n",
      "Marks > 80:\n",
      "     Name  Age  Gender  Marks  Passed\n",
      "0  Alice   20  Female     85    True\n",
      "2  Carol   19  Female     92    True\n",
      "4    Eve   20  Female     88    True\n",
      "\n",
      "Student with highest marks:\n",
      "     Name  Age  Gender  Marks  Passed\n",
      "2  Carol   19  Female     92    True\n"
     ]
    }
   ],
   "source": [
    "data = {\n",
    "    'Name': ['Alice', 'Bob', 'Carol', 'David', 'Eve'],\n",
    "    'Age': [20, 22, 19, 21, 20],\n",
    "    'Gender': ['Female', 'Male', 'Female', 'Male', 'Female'],\n",
    "    'Marks': [85, 78, 92, 74, 88]\n",
    "}\n",
    "\n",
    "df = pd.DataFrame(data)\n",
    "df['Passed'] = df['Marks'] >= 80\n",
    "\n",
    "print(df[['Name', 'Marks']])\n",
    "print(\"\\nMarks > 80:\\n\", df[df['Marks'] > 80])\n",
    "print(\"\\nStudent with highest marks:\\n\", df[df['Marks'] == df['Marks'].max()])"
   ]
  },
  {
   "cell_type": "markdown",
   "id": "65360cf2",
   "metadata": {},
   "source": [
    "Task 4:-"
   ]
  },
  {
   "cell_type": "code",
   "execution_count": 5,
   "id": "38e205f0",
   "metadata": {},
   "outputs": [
    {
     "name": "stdout",
     "output_type": "stream",
     "text": [
      "Missing values:\n",
      "     Name    Age  Gender  Marks  Passed\n",
      "0  False  False   False  False   False\n",
      "1  False  False   False   True   False\n",
      "2  False  False   False  False   False\n",
      "3  False  False   False  False   False\n",
      "4  False   True   False  False   False\n",
      "\n",
      "DataFrame after handling missing data:\n",
      "     Name   Age  Gender  Marks  Passed\n",
      "0  Alice  20.0  Female  85.00    True\n",
      "1    Bob  22.0    Male  84.75   False\n",
      "2  Carol  19.0  Female  92.00    True\n",
      "3  David  21.0    Male  74.00   False\n"
     ]
    }
   ],
   "source": [
    "data = {\n",
    "    'Name': ['Alice', 'Bob', 'Carol', 'David', 'Eve'],\n",
    "    'Age': [20, 22, 19, 21, 20],\n",
    "    'Gender': ['Female', 'Male', 'Female', 'Male', 'Female'],\n",
    "    'Marks': [85, 78, 92, 74, 88]\n",
    "}\n",
    "\n",
    "df = pd.DataFrame(data)\n",
    "df['Passed'] = df['Marks'] >= 80\n",
    "\n",
    "df.loc[1, 'Marks'] = None\n",
    "df.loc[4, 'Age'] = None\n",
    "\n",
    "print(\"Missing values:\\n\", df.isna())\n",
    "\n",
    "meanm = df['Marks'].mean()\n",
    "df['Marks'] = df['Marks'].fillna(meanm)\n",
    "\n",
    "df = df.dropna(subset=['Age'])\n",
    "print(\"\\nDataFrame after handling missing data:\\n\", df)"
   ]
  },
  {
   "cell_type": "markdown",
   "id": "e960788c",
   "metadata": {},
   "source": [
    "Task 5:-"
   ]
  },
  {
   "cell_type": "code",
   "execution_count": 6,
   "id": "c2035f55",
   "metadata": {},
   "outputs": [
    {
     "name": "stdout",
     "output_type": "stream",
     "text": [
      "              Age      Marks\n",
      "Gender                      \n",
      "Female  19.666667  88.333333\n",
      "Male    21.500000  76.000000\n",
      "\n",
      "Count by gender:\n",
      " Gender\n",
      "Female    3\n",
      "Male      2\n",
      "dtype: int64\n"
     ]
    }
   ],
   "source": [
    "data = {\n",
    "    'Name': ['Alice', 'Bob', 'Carol', 'David', 'Eve'],\n",
    "    'Age': [20, 22, 19, 21, 20],\n",
    "    'Gender': ['Female', 'Male', 'Female', 'Male', 'Female'],\n",
    "    'Marks': [85, 78, 92, 74, 88]\n",
    "}\n",
    "\n",
    "df = pd.DataFrame(data)\n",
    "df['Passed'] = df['Marks'] >= 80\n",
    "\n",
    "grp = df.groupby('Gender')\n",
    "\n",
    "print(grp[['Age', 'Marks']].mean())\n",
    "print(\"\\nCount by gender:\\n\", grp.size())"
   ]
  },
  {
   "cell_type": "markdown",
   "id": "13a0d23e",
   "metadata": {},
   "source": [
    "Task 6 :-"
   ]
  },
  {
   "cell_type": "code",
   "execution_count": 7,
   "id": "579f8db9",
   "metadata": {},
   "outputs": [
    {
     "name": "stdout",
     "output_type": "stream",
     "text": [
      "    Name   Age  Gender  Marks  Passed\n",
      "0  Alice  20.0  Female  85.00    True\n",
      "1    Bob  22.0    Male  84.75   False\n",
      "2  Carol  19.0  Female  92.00    True\n",
      "3  David  21.0    Male  74.00   False\n"
     ]
    }
   ],
   "source": [
    "data = {\n",
    "    'Name': ['Alice', 'Bob', 'Carol', 'David', 'Eve'],\n",
    "    'Age': [20, 22, 19, 21, 20],\n",
    "    'Gender': ['Female', 'Male', 'Female', 'Male', 'Female'],\n",
    "    'Marks': [85, 78, 92, 74, 88]\n",
    "}\n",
    "\n",
    "df = pd.DataFrame(data)\n",
    "df['Passed'] = df['Marks'] >= 80\n",
    "\n",
    "df.loc[1, 'Marks'] = None\n",
    "df.loc[4, 'Age'] = None\n",
    "\n",
    "mean_marks = df['Marks'].mean()\n",
    "df['Marks'] = df['Marks'].fillna(mean_marks)\n",
    "df = df.dropna(subset=['Age'])\n",
    "\n",
    "df.to_csv(\"students_data.csv\", index=False)\n",
    "\n",
    "new_df = pd.read_csv(\"students_data.csv\")\n",
    "print(new_df.head())"
   ]
  },
  {
   "cell_type": "markdown",
   "id": "7826d67e",
   "metadata": {},
   "source": [
    "Task 7:-"
   ]
  },
  {
   "cell_type": "code",
   "execution_count": 2,
   "id": "17a305f9",
   "metadata": {},
   "outputs": [
    {
     "name": "stdout",
     "output_type": "stream",
     "text": [
      "<class 'pandas.core.frame.DataFrame'>\n",
      "RangeIndex: 5 entries, 0 to 4\n",
      "Data columns (total 4 columns):\n",
      " #   Column  Non-Null Count  Dtype \n",
      "---  ------  --------------  ----- \n",
      " 0   Name    5 non-null      object\n",
      " 1   Age     5 non-null      int64 \n",
      " 2   Gender  5 non-null      object\n",
      " 3   Marks   5 non-null      int64 \n",
      "dtypes: int64(2), object(2)\n",
      "memory usage: 292.0+ bytes\n",
      "None\n",
      "\n",
      "Summary statistics:\n",
      "              Age      Marks\n",
      "count   5.000000   5.000000\n",
      "mean   20.400000  83.400000\n",
      "std     1.140175   7.334848\n",
      "min    19.000000  74.000000\n",
      "25%    20.000000  78.000000\n",
      "50%    20.000000  85.000000\n",
      "75%    21.000000  88.000000\n",
      "max    22.000000  92.000000\n",
      "\n",
      "Missing values:\n",
      " Name      0\n",
      "Age       0\n",
      "Gender    0\n",
      "Marks     0\n",
      "dtype: int64\n"
     ]
    },
    {
     "data": {
      "image/png": "[encoded data removed]",
      "text/plain": [
       "<Figure size 500x500 with 6 Axes>"
      ]
     },
     "metadata": {},
     "output_type": "display_data"
    },
    {
     "data": {
      "image/png": "[encoded data removed]",
      "text/plain": [
       "<Figure size 640x480 with 1 Axes>"
      ]
     },
     "metadata": {},
     "output_type": "display_data"
    }
   ],
   "source": [
    "import pandas as pd\n",
    "import matplotlib.pyplot as plt\n",
    "import seaborn as sns\n",
    "\n",
    "df = pd.read_csv(\"data.csv\")\n",
    "\n",
    "print(df.info())\n",
    "print(\"\\nSummary statistics:\\n\", df.describe())\n",
    "print(\"\\nMissing values:\\n\", df.isna().sum())\n",
    "\n",
    "sns.pairplot(df.select_dtypes(include='number'))\n",
    "plt.show()\n",
    "\n",
    "sns.heatmap(df.isna(), cbar=False)\n",
    "plt.show()\n"
   ]
  }
 ],
 "metadata": {
  "kernelspec": {
   "display_name": "Python 3",
   "language": "python",
   "name": "python3"
  },
  "language_info": {
   "codemirror_mode": {
    "name": "ipython",
    "version": 3
   },
   "file_extension": ".py",
   "mimetype": "text/x-python",
   "name": "python",
   "nbconvert_exporter": "python",
   "pygments_lexer": "ipython3",
   "version": "3.13.5"
  }
 },
 "nbformat": 4,
 "nbformat_minor": 5
}
