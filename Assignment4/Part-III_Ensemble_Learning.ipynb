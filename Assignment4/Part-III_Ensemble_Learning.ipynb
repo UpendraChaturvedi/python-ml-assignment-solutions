{
 "cells": [
  {
   "cell_type": "markdown",
   "id": "a5155f4f",
   "metadata": {},
   "source": [
    "**1. What is the difference between Bagging and Boosting?**"
   ]
  },
  {
   "cell_type": "markdown",
   "id": "4f7ba756",
   "metadata": {},
   "source": [
    "| Feature           | **Bagging**                                                   | **Boosting**                                                  |\n",
    "| ----------------- | ------------------------------------------------------------- | ------------------------------------------------------------- |\n",
    "| **Goal**          | Reduce variance                                               | Reduce bias                                                   |\n",
    "| **How**           | Trains multiple models **in parallel**                        | Trains models **one after another** (sequential)              |\n",
    "| **Example**       | Random Forest                                                 | AdaBoost, Gradient Boosting                                   |\n",
    "| **Model focus**   | Each model is trained independently                           | Each new model fixes the mistakes of the previous ones        |\n",
    "| **Data Sampling** | Uses **bootstrap sampling** (random samples with replacement) | Uses **weighted data**, focusing more on misclassified points |\n"
   ]
  },
  {
   "cell_type": "markdown",
   "id": "db946619",
   "metadata": {},
   "source": [
    "**2. How does Random Forest reduce variance?**"
   ]
  },
  {
   "cell_type": "markdown",
   "id": "f8daf0e0",
   "metadata": {},
   "source": [
    "- Random Forest trains many decision trees on different random samples of data.\n",
    "Each tree gives a prediction, and the final output is the average (for regression) or majority vote (for classification).\n",
    "Since not all trees see the same data or features, their errors are less likely to be the same.\n",
    "So, when we combine them, the overall model becomes more stable and less affected by the noise in the data."
   ]
  },
  {
   "cell_type": "markdown",
   "id": "68a04b9e",
   "metadata": {},
   "source": [
    "**3. What is the weakness of boosting-based methods?**"
   ]
  },
  {
   "cell_type": "markdown",
   "id": "fec38ced",
   "metadata": {},
   "source": [
    "- Overfitting: Boosting can overfit if there is too much noise in the data.\n",
    "- Slow training: Since boosting trains models one by one, it takes more time.\n",
    "- Sensitive to outliers: It gives more importance to hard-to-classify samples, which can include outliers.\n",
    "\n"
   ]
  },
  {
   "cell_type": "markdown",
   "id": "6a6f509c",
   "metadata": {},
   "source": [
    "Task 8: Random Forest vs Decision Tree \n",
    "- ● Train a RandomForestClassifier on the same dataset used for Task 5. \n",
    "- ● Compare accuracy, precision, and recall with the standalone decision tree. \n",
    "- ● Plot feature importances. "
   ]
  },
  {
   "cell_type": "code",
   "execution_count": null,
   "id": "7f40a582",
   "metadata": {},
   "outputs": [
    {
     "name": "stdout",
     "output_type": "stream",
     "text": [
      "Decision Tree\n",
      "Accuracy: 0.7988826815642458\n",
      "Precision: 0.7567567567567568\n",
      "Recall: 0.7567567567567568\n",
      "Confusion Matrix:\n",
      " [[87 18]\n",
      " [18 56]]\n",
      "\n",
      "Random Forest\n",
      "Accu 0.8268156424581006\n",
      "Precision-  0.8115942028985508\n",
      "Recall-: 0.7567567567567568\n",
      "Confusion Matrix:\n",
      " [[92 13]\n",
      " [18 56]]\n"
     ]
    },
    {
     "data": {
      "image/png": "[encoded data removed]",
      "text/plain": [
       "<Figure size 800x500 with 1 Axes>"
      ]
     },
     "metadata": {},
     "output_type": "display_data"
    }
   ],
   "source": [
    "import pandas as pd\n",
    "import matplotlib.pyplot as plt\n",
    "from sklearn.model_selection import train_test_split\n",
    "from sklearn.tree import DecisionTreeClassifier\n",
    "from sklearn.ensemble import RandomForestClassifier\n",
    "from sklearn.metrics import accuracy_score, precision_score, recall_score, confusion_matrix\n",
    "\n",
    "df = pd.read_csv(\"https://raw.githubusercontent.com/datasciencedojo/datasets/master/titanic.csv\")\n",
    "df = df[['Survived', 'Pclass', 'Sex', 'Age', 'SibSp', 'Parch', 'Fare', 'Embarked']]\n",
    "df['Age'] = df['Age'].fillna(df['Age'].median())\n",
    "df['Embarked'] = df['Embarked'].fillna(df['Embarked'].mode()[0])\n",
    "df['Sex'] = df['Sex'].map({'male': 0, 'female': 1})\n",
    "df['Embarked'] = df['Embarked'].map({'S': 0, 'C': 1, 'Q': 2})\n",
    "\n",
    "X = df.drop('Survived', axis=1)\n",
    "y = df['Survived']\n",
    "xtrain, xtest, ytrain, ytest = train_test_split(X, y, test_size=0.2, random_state=42)\n",
    "\n",
    "dt = DecisionTreeClassifier(random_state=42)\n",
    "dt.fit(xtrain, ytrain)\n",
    "yp_dt = dt.predict(xtest)\n",
    "\n",
    "rf = RandomForestClassifier(n_estimators=100, random_state=42)\n",
    "rf.fit(xtrain, ytrain)\n",
    "yp_rf = rf.predict(xtest)\n",
    "\n",
    "print(\"--Decision Tree--\")\n",
    "print(\"Accuracy:\", accuracy_score(ytest, yp_dt))\n",
    "print(\"Precision:\", precision_score(ytest, yp_dt))\n",
    "print(\"Recall:\", recall_score(ytest, yp_dt))\n",
    "print(\"Confusion Matrix:\\n\", confusion_matrix(ytest, yp_dt))\n",
    "\n",
    "print(\"\\nRandom Forest--\")\n",
    "print(\"Accu\", accuracy_score(ytest, yp_rf))\n",
    "print(\"Precision- \", precision_score(ytest, yp_rf))\n",
    "print(\"Recall-:\", recall_score(ytest, yp_rf))\n",
    "print(\"Confusion Matrix:\\n\", confusion_matrix(ytest, yp_rf))\n",
    "\n",
    "imp = pd.Series(rf.feature_importances_, index=X.columns)\n",
    "imp.sort_values().plot(kind='barh', figsize=(8, 5), title='Feature Importances (Random Forest)')\n",
    "plt.xlabel('Importance Score-')\n",
    "plt.tight_layout()\n",
    "plt.show()\n"
   ]
  },
  {
   "cell_type": "markdown",
   "id": "dfd8a848",
   "metadata": {},
   "source": [
    "Task 9: AdaBoost or Gradient Boosting \n",
    "- ● Train an AdaBoostClassifier or GradientBoostingClassifier. \n",
    "- ● Use a suitable dataset. \n",
    "- ● Compare it with Random Forest and Decision Tree in terms of: \n",
    "- ○ Accuracy \n",
    "- ○ F1-score \n",
    "- ○ Training time (optional)"
   ]
  },
  {
   "cell_type": "code",
   "execution_count": 2,
   "id": "b4c01241",
   "metadata": {},
   "outputs": [
    {
     "name": "stdout",
     "output_type": "stream",
     "text": [
      "\n",
      "Model Comparison given-\n",
      "\n",
      "Decision Tree         Acc: 0.9630  F1: 0.9624  Time: 0.0016 sec\n",
      "Random Forest         Acc: 1.0000  F1: 1.0000  Time: 0.1173 sec\n",
      "AdaBoost              Acc: 0.9815  F1: 0.9799  Time: 0.1470 sec\n",
      "Gradient Boosting     Acc: 0.9074  F1: 0.9039  Time: 0.3389 sec\n"
     ]
    }
   ],
   "source": [
    "from sklearn.datasets import load_wine\n",
    "from sklearn.model_selection import train_test_split\n",
    "from sklearn.tree import DecisionTreeClassifier\n",
    "from sklearn.ensemble import RandomForestClassifier, AdaBoostClassifier, GradientBoostingClassifier\n",
    "from sklearn.metrics import accuracy_score, f1_score\n",
    "import time\n",
    "\n",
    "data = load_wine()\n",
    "x = data.data\n",
    "y = data.target\n",
    "\n",
    "xtrain, xtest, ytrain, ytest = train_test_split(x, y, test_size=0.3, random_state=42)\n",
    "\n",
    "dt = DecisionTreeClassifier(random_state=42)\n",
    "rf = RandomForestClassifier(n_estimators=100, random_state=42)\n",
    "ada = AdaBoostClassifier(n_estimators=100, random_state=42)\n",
    "gb = GradientBoostingClassifier(n_estimators=100, random_state=42)\n",
    "\n",
    "def train_score(model, name):\n",
    "    t1 = time.time()\n",
    "    model.fit(xtrain, ytrain)\n",
    "    t2 = time.time()\n",
    "    pred = model.predict(xtest)\n",
    "    acc = accuracy_score(ytest, pred)\n",
    "    f1 = f1_score(ytest, pred, average='macro')\n",
    "    print(f\"{name:<20}  Acc: {acc:.4f}  F1: {f1:.4f}  Time: {t2 - t1:.4f} sec\")\n",
    "\n",
    "print(\"\\nModel Comparison given-\\n\")\n",
    "train_score(dt, \"Decision Tree\")\n",
    "train_score(rf, \"Random Forest\")\n",
    "train_score(ada, \"AdaBoost\")\n",
    "train_score(gb, \"Gradient Boosting\")\n"
   ]
  }
 ],
 "metadata": {
  "kernelspec": {
   "display_name": "Python 3",
   "language": "python",
   "name": "python3"
  },
  "language_info": {
   "codemirror_mode": {
    "name": "ipython",
    "version": 3
   },
   "file_extension": ".py",
   "mimetype": "text/x-python",
   "name": "python",
   "nbconvert_exporter": "python",
   "pygments_lexer": "ipython3",
   "version": "3.13.5"
  }
 },
 "nbformat": 4,
 "nbformat_minor": 5
}
